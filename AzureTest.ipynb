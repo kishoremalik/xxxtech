{
 "cells": [
  {
   "cell_type": "code",
   "execution_count": 2,
   "id": "03e3dcf6",
   "metadata": {},
   "outputs": [],
   "source": [
    "import azure.core\n",
    "from azureml.core import Workspace, Environment,Experiment,ScriptRunConfig"
   ]
  },
  {
   "cell_type": "code",
   "execution_count": 3,
   "id": "66fcb979",
   "metadata": {},
   "outputs": [],
   "source": [
    "from azureml.core.compute import AmlCompute,ComputeTarget\n",
    "from azureml.core.authentication import InteractiveLoginAuthentication"
   ]
  },
  {
   "cell_type": "code",
   "execution_count": 4,
   "id": "7c979058",
   "metadata": {},
   "outputs": [],
   "source": [
    "try:\n",
    "    ws = Workspace.get(name=\"windia\", subscription_id='cfa28f36-8345-475f-aa77-126e68d22b1e', resource_group='mam')\n",
    "except Exception as e:\n",
    "    print(\"workspace error\",e)"
   ]
  },
  {
   "cell_type": "code",
   "execution_count": 5,
   "id": "1a9f372b",
   "metadata": {},
   "outputs": [
    {
     "data": {
      "text/plain": [
       "Workspace.create(name='windia', subscription_id='cfa28f36-8345-475f-aa77-126e68d22b1e', resource_group='mam')"
      ]
     },
     "execution_count": 5,
     "metadata": {},
     "output_type": "execute_result"
    }
   ],
   "source": [
    "ws"
   ]
  },
  {
   "cell_type": "markdown",
   "id": "ae5646ac",
   "metadata": {},
   "source": [
    "## Cluster creation"
   ]
  },
  {
   "cell_type": "code",
   "execution_count": 6,
   "id": "ad228bbf",
   "metadata": {},
   "outputs": [],
   "source": [
    "try:\n",
    "    cluster=ComputeTarget(ws,'clustdz')\n",
    "except:\n",
    "    config=AmlCompute.provisioning_configuration(vm_size='STANDARD_D3_V2',min_nodes=0,max_nodes=4,idle_seconds_before_scaledown=2400)\n",
    "    cluster=ComputeTarget.create(ws,'clustdz',config)"
   ]
  },
  {
   "cell_type": "markdown",
   "id": "5af4da89",
   "metadata": {},
   "source": [
    "## Experiment creation "
   ]
  },
  {
   "cell_type": "code",
   "execution_count": 7,
   "id": "1d9a84e5",
   "metadata": {},
   "outputs": [],
   "source": [
    "try:\n",
    "    experiment = Experiment(workspace=ws, name='testexprz')\n",
    "except Exception as e:\n",
    "    print(\"Experiment error\",e)"
   ]
  },
  {
   "cell_type": "code",
   "execution_count": 8,
   "id": "bfa63240",
   "metadata": {},
   "outputs": [
    {
     "data": {
      "text/html": [
       "<table style=\"width:100%\"><tr><th>Name</th><th>Workspace</th><th>Report Page</th><th>Docs Page</th></tr><tr><td>testexprz</td><td>windia</td><td><a href=\"https://ml.azure.com/experiments/id/5210732b-9b94-491a-873a-1a92f29a2800?wsid=/subscriptions/cfa28f36-8345-475f-aa77-126e68d22b1e/resourcegroups/mam/workspaces/windia&amp;tid=d111d868-2fd8-4e83-84da-a0a08e75210b\" target=\"_blank\" rel=\"noopener\">Link to Azure Machine Learning studio</a></td><td><a href=\"https://docs.microsoft.com/en-us/python/api/azureml-core/azureml.core.experiment.Experiment?view=azure-ml-py\" target=\"_blank\" rel=\"noopener\">Link to Documentation</a></td></tr></table>"
      ],
      "text/plain": [
       "Experiment(Name: testexprz,\n",
       "Workspace: windia)"
      ]
     },
     "execution_count": 8,
     "metadata": {},
     "output_type": "execute_result"
    }
   ],
   "source": [
    "experiment"
   ]
  },
  {
   "cell_type": "code",
   "execution_count": 9,
   "id": "3a01ce78",
   "metadata": {},
   "outputs": [],
   "source": [
    "from azureml.core.conda_dependencies import CondaDependencies\n",
    "env=Environment.from_conda_specification(name=\"tensorenv\",file_path=\"./dconf.yml\")\n"
   ]
  },
  {
   "cell_type": "code",
   "execution_count": null,
   "id": "8e9a82df",
   "metadata": {},
   "outputs": [],
   "source": [
    "pythonconfig=ScriptRunConfig(source_directory='./',script='imagemodel.py',compute_target='clustdz',environment=env)\n",
    "execution=experiment.submit(pythonconfig)\n"
   ]
  },
  {
   "cell_type": "markdown",
   "id": "c0af31c8",
   "metadata": {},
   "source": [
    "## Registering the Model"
   ]
  },
  {
   "cell_type": "markdown",
   "id": "b0bb286b",
   "metadata": {},
   "source": [
    "## Deploy model"
   ]
  },
  {
   "cell_type": "code",
   "execution_count": 10,
   "id": "41b9bc4f",
   "metadata": {},
   "outputs": [],
   "source": [
    "from azureml.core.model import InferenceConfig, Model\n",
    "from azureml.core.webservice import AciWebservice, Webservice\n",
    "from azureml.core.conda_dependencies import CondaDependencies"
   ]
  },
  {
   "cell_type": "code",
   "execution_count": null,
   "id": "b31aa7d6",
   "metadata": {},
   "outputs": [],
   "source": [
    "#model = execution.register_model(model_name = \"mymodel\", model_path = \"diabeticmodel.pkl\")"
   ]
  },
  {
   "cell_type": "code",
   "execution_count": 11,
   "id": "8698befd",
   "metadata": {},
   "outputs": [
    {
     "name": "stdout",
     "output_type": "stream",
     "text": [
      "Registering model docmodelx\n"
     ]
    }
   ],
   "source": [
    "from azureml.core.model import Model\n",
    "\n",
    "model = Model.register(workspace=ws, model_path=\"./document.h5\", model_name=\"docmodelx\")"
   ]
  },
  {
   "cell_type": "code",
   "execution_count": 12,
   "id": "dfd8c848",
   "metadata": {},
   "outputs": [],
   "source": [
    "from azureml.core.model import InferenceConfig\n",
    "from azureml.core.webservice import AciWebservice\n",
    "# Combine scoring script & environment in Inference configuration\n",
    "inference_config = InferenceConfig(entry_script=\"score.py\",environment=env)\n",
    "\n",
    "# Set deployment configuration\n",
    "deployment_config = AciWebservice.deploy_configuration(cpu_cores = 1,\n",
    "                                                       memory_gb = 1)\n",
    "\n",
    "# Define the model, inference, & deployment configuration and web service name and location to deploy\n",
    "service = Model.deploy(workspace = ws,\n",
    "                       name = \"docmodelxz\",\n",
    "                       models = [model],\n",
    "                       inference_config = inference_config,\n",
    "                       deployment_config = deployment_config)"
   ]
  },
  {
   "cell_type": "code",
   "execution_count": null,
   "id": "47294a4e",
   "metadata": {},
   "outputs": [],
   "source": []
  },
  {
   "cell_type": "code",
   "execution_count": 13,
   "id": "0fd842c8",
   "metadata": {},
   "outputs": [],
   "source": [
    "import json\n",
    "from PIL import Image\n",
    "import numpy as np\n",
    "from azureml.core import Webservice\n",
    "service=Webservice(workspace=ws,name=\"docmodelxz\")"
   ]
  },
  {
   "cell_type": "code",
   "execution_count": 14,
   "id": "7c212772",
   "metadata": {},
   "outputs": [],
   "source": [
    "filename = \"E:\\Datasets\\opencvImage\\im4.jpg\"\n",
    "image = Image.open(filename)\n",
    "json_data = json.dumps(np.array(image).tolist())\n",
    "\n",
    "y_hat=service.run(input_data=json_data)\n"
   ]
  },
  {
   "cell_type": "code",
   "execution_count": 15,
   "id": "1437888a",
   "metadata": {},
   "outputs": [
    {
     "data": {
      "text/plain": [
       "'tiltedImage'"
      ]
     },
     "execution_count": 15,
     "metadata": {},
     "output_type": "execute_result"
    }
   ],
   "source": [
    "y_hat"
   ]
  },
  {
   "cell_type": "code",
   "execution_count": null,
   "id": "d3c7df90",
   "metadata": {},
   "outputs": [],
   "source": []
  }
 ],
 "metadata": {
  "kernelspec": {
   "display_name": "Python 3",
   "language": "python",
   "name": "python3"
  },
  "language_info": {
   "codemirror_mode": {
    "name": "ipython",
    "version": 3
   },
   "file_extension": ".py",
   "mimetype": "text/x-python",
   "name": "python",
   "nbconvert_exporter": "python",
   "pygments_lexer": "ipython3",
   "version": "3.7.10"
  }
 },
 "nbformat": 4,
 "nbformat_minor": 5
}
